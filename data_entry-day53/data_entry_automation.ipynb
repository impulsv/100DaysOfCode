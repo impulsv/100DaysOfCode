{
  "cells": [
    {
      "cell_type": "code",
      "execution_count": 2,
      "metadata": {
        "id": "OEIxpPZMYz-3"
      },
      "outputs": [],
      "source": [
        "from bs4 import BeautifulSoup\n",
        "import requests\n",
        "import selenium\n",
        "import lxml"
      ]
    },
    {
      "cell_type": "code",
      "execution_count": null,
      "metadata": {
        "colab": {
          "base_uri": "https://localhost:8080/",
          "height": 130
        },
        "id": "9Vuignwji2T2",
        "outputId": "c1a74938-4287-4e1f-fce0-9c7a45997d4e"
      },
      "outputs": [],
      "source": []
    },
    {
      "cell_type": "code",
      "execution_count": 3,
      "metadata": {
        "id": "5fg-CPN2ZJ09"
      },
      "outputs": [],
      "source": [
        "URL = 'https://www.zillow.com/san-francisco-ca/rentals/?searchQueryState=%7B%22pagination%22%3A%7B%7D%2C%22usersSearchTerm%22%3A%22San%20Francisco%2C%20CA%22%2C%22mapBounds%22%3A%7B%22west%22%3A-122.536739%2C%22east%22%3A-122.32992%2C%22south%22%3A37.707608%2C%22north%22%3A37.842914%7D%2C%22regionSelection%22%3A%5B%7B%22regionId%22%3A20330%2C%22regionType%22%3A6%7D%5D%2C%22isMapVisible%22%3Afalse%2C%22filterState%22%3A%7B%22fsba%22%3A%7B%22value%22%3Afalse%7D%2C%22fsbo%22%3A%7B%22value%22%3Afalse%7D%2C%22nc%22%3A%7B%22value%22%3Afalse%7D%2C%22fore%22%3A%7B%22value%22%3Afalse%7D%2C%22cmsn%22%3A%7B%22value%22%3Afalse%7D%2C%22auc%22%3A%7B%22value%22%3Afalse%7D%2C%22fr%22%3A%7B%22value%22%3Atrue%7D%2C%22ah%22%3A%7B%22value%22%3Atrue%7D%2C%22mp%22%3A%7B%22max%22%3A3000%7D%2C%22beds%22%3A%7B%22min%22%3A1%7D%7D%2C%22isListVisible%22%3Atrue%7D'\n",
        "FORM = 'https://forms.gle/2TZQ8ejgHWLYfSYq5'\n",
        "\n",
        "header = {\n",
        "    'User-Agent' : 'Mozilla/5.0 (Windows NT 10.0; Win64; x64) AppleWebKit/537.36 (KHTML, like Gecko) Chrome/110.0.0.0 Safari/537.36',\n",
        "    'Accept-Language' : 'en-US,en;q=0.9',\n",
        "}"
      ]
    },
    {
      "cell_type": "code",
      "execution_count": 4,
      "metadata": {
        "id": "JVNCldm-fVMu"
      },
      "outputs": [],
      "source": [
        "r = requests.get(url = URL, headers = header)\n",
        "data = r.text "
      ]
    },
    {
      "cell_type": "code",
      "execution_count": 5,
      "metadata": {
        "id": "nKZc-GaTZkTH"
      },
      "outputs": [],
      "source": [
        "soup = BeautifulSoup(data, \"lxml\")"
      ]
    },
    {
      "cell_type": "code",
      "execution_count": 6,
      "metadata": {
        "colab": {
          "base_uri": "https://localhost:8080/"
        },
        "id": "Mg7bFKQvZlwK",
        "outputId": "8f1ec5cb-d9a2-4233-8739-3190fddb7591"
      },
      "outputs": [
        {
          "name": "stdout",
          "output_type": "stream",
          "text": [
            "['/b/parkmerced-san-francisco-ca-5XjKHx/', '/b/parkmerced-san-francisco-ca-5XjKHx/', 'https://www.zillow.com/b/2440-van-ness-ave-san-francisco-ca-9NKHF3/', 'https://www.zillow.com/b/2440-van-ness-ave-san-francisco-ca-9NKHF3/', 'https://www.zillow.com/b/alta-potrero-san-francisco-ca-9tWYvF/', 'https://www.zillow.com/b/alta-potrero-san-francisco-ca-9tWYvF/', 'https://www.zillow.com/b/l-seven-san-francisco-ca-9NJtD7/', 'https://www.zillow.com/b/l-seven-san-francisco-ca-9NJtD7/', '/b/923-folsom-san-francisco-ca-5Yy6Np/', '/b/923-folsom-san-francisco-ca-5Yy6Np/', 'https://www.zillow.com/b/prism-san-francisco-ca-9NJpRh/', 'https://www.zillow.com/b/prism-san-francisco-ca-9NJpRh/', '/b/astella-san-francisco-ca-9NJxqH/', '/b/astella-san-francisco-ca-9NJxqH/', '/b/1188-mission-at-trinity-place-san-francisco-ca-5XjN4q/', '/b/1188-mission-at-trinity-place-san-francisco-ca-5XjN4q/', '/b/hanover-soma-west-san-francisco-ca-9NJsx9/', '/b/hanover-soma-west-san-francisco-ca-9NJsx9/']\n",
            "{'https://www.zillow.com/b/1188-mission-at-trinity-place-san-francisco-ca-5XjN4q/', 'https://www.zillow.com/b/prism-san-francisco-ca-9NJpRh/', 'https://www.zillow.com/b/astella-san-francisco-ca-9NJxqH/', 'https://www.zillow.com/b/parkmerced-san-francisco-ca-5XjKHx/', 'https://www.zillow.com/b/hanover-soma-west-san-francisco-ca-9NJsx9/', 'https://www.zillow.com/b/alta-potrero-san-francisco-ca-9tWYvF/', 'https://www.zillow.com/b/2440-van-ness-ave-san-francisco-ca-9NKHF3/', 'https://www.zillow.com/b/l-seven-san-francisco-ca-9NJtD7/', 'https://www.zillow.com/b/923-folsom-san-francisco-ca-5Yy6Np/'}\n",
            "9\n",
            "['Parkmerced | 3711 19th Ave, San Francisco, CA', '2440 Van Ness Ave, 2440 Van Ness Ave, San Francisco, CA 94109', 'Alta Potrero, 1301 16th St #310, San Francisco, CA 94103', 'L Seven, 1222 Harrison St #7106, San Francisco, CA 94103', '923 Folsom | 923 Folsom St, San Francisco, CA', 'Prism, 1028 Market St PENTHOUSE 2, San Francisco, CA 94102', 'Astella | 975 Bryant St, San Francisco, CA', '1188 Mission at Trinity Place | 1188 Mission St, San Francisco, CA', 'Hanover Soma West | 1140 Harrison St, San Francisco, CA']\n"
          ]
        }
      ],
      "source": [
        "anchor = soup.find_all('a', class_ = 'property-card-link') \n",
        "links = [element.get('href') for element in anchor]\n",
        "print(links)\n",
        "\n",
        "for i in range(len(links)):\n",
        "    if links[i][0:4] != 'http':\n",
        "        links[i] = 'https://www.zillow.com' + links[i]\n",
        "print(set(links))\n",
        "print(len(list(set(links))))\n",
        "addrs = [element.string for element in anchor]\n",
        "addr = addrs[::2]\n",
        "print(addr)"
      ]
    },
    {
      "cell_type": "code",
      "execution_count": null,
      "metadata": {
        "id": "asmP9Q9zhJzd"
      },
      "outputs": [],
      "source": []
    }
  ],
  "metadata": {
    "colab": {
      "provenance": []
    },
    "kernelspec": {
      "display_name": "Python 3",
      "language": "python",
      "name": "python3"
    },
    "language_info": {
      "codemirror_mode": {
        "name": "ipython",
        "version": 3
      },
      "file_extension": ".py",
      "mimetype": "text/x-python",
      "name": "python",
      "nbconvert_exporter": "python",
      "pygments_lexer": "ipython3",
      "version": "3.10.6"
    },
    "vscode": {
      "interpreter": {
        "hash": "5628772dfb9a59069da408bf249181f154b897a9e189e4596c1ff3aa3e558160"
      }
    }
  },
  "nbformat": 4,
  "nbformat_minor": 0
}
